{
  "cells": [
    {
      "cell_type": "markdown",
      "metadata": {
        "id": "yIyhfSdgXWpc"
      },
      "source": [
        "Sona Ghanbari\n",
        "<br>\n",
        "Date: Jan. 14, 2021\n",
        "<br>\n",
        "PHYS 2030 W22"
      ]
    },
    {
      "cell_type": "markdown",
      "metadata": {
        "id": "Nymapzb1XWpg"
      },
      "source": [
        "## <center><font color=#46769B>Exercise 2: Central Limit Theorem</font></center>\n",
        "\n",
        "## <font color=#46769B>Introduction:</font>\n",
        "\n",
        "Our goals for this notebook are:\n",
        "- Verify that the central limit theorem holds for flipping a coin\n",
        "\n",
        "Required reading:\n",
        "- *Lesson 2: Monte Carlo sampling*"
      ]
    },
    {
      "cell_type": "markdown",
      "metadata": {
        "id": "2LroE3LfXWph"
      },
      "source": [
        "## <font color=#46769B>A remarkable fact about the Central Limit Theorem (CLT):</font>\n",
        "\n",
        "Suppose we have samples of $x$ that come from a probability distribution $P(x)$:\n",
        "$$\\left(x_0, \\, x_1, \\, x_2, \\, ..., \\, x_{N-1}\\right)$$\n",
        "The CLT tells us that if we perform many such simulations, the mean values $\\langle x \\rangle$ we obtain will follow a normal distribution around the true mean $\\mu$ of $P(x)$.\n",
        "\n",
        "Notice we didn't require that $P(x)$ *itself* was a normal distribution. In fact, $P(x)$ can be *any* discrete or continuous distribution. Nevertheless, the mean values of the samples will follow a *normal distribution*.\n",
        "\n",
        "Here we will consider the CLT in the context of flipping a coin, where $P(x)$ is certainly not a normal distribution."
      ]
    },
    {
      "cell_type": "markdown",
      "metadata": {
        "id": "dl3baWbGXWpi"
      },
      "source": [
        "## <font color=#46769B>Part 1: Flipping a coin</font>\n",
        "\n",
        "The goal of this exercise is to verify that the CLT holds for flipping a coin. The setup is:\n",
        "- We flip a coin $N$ times, each time yielding either heads ($x=1$) with probability $p$, or tails ($x=0$) with probability $1-p$. \n",
        "- We will not assume a fair coin, setting $p=0.6$.\n",
        "\n",
        "Similar to Lecture 2, write a code `coin_flip_simulation(num)` that will return the mean value $\\langle x \\rangle$ after `num` coin flips."
      ]
    },
    {
      "cell_type": "code",
      "execution_count": 8,
      "metadata": {
        "id": "oq96cJYJXWpj"
      },
      "outputs": [],
      "source": [
        "# Your answer to exercise 1 here\n",
        "\n",
        "#Importing numpy and matplotlib.pyplot\n",
        "import numpy as np\n",
        "import matplotlib.pyplot as plt\n",
        "\n",
        "#defining a function that will return a mean of a coin flip with an unfair coin\n",
        "def coin_flip_simulation(num):\n",
        "    \n",
        "    #x_samples will flip a coin num times with a 60% chance of it landing on heads, and a 40% of it landing on tails\n",
        "    heads = 1\n",
        "    tails = 0\n",
        "    options = [heads, tails]\n",
        "    x_samples = np.random.choice(options, num, p = [0.6, 0.4]) #citations(1)\n",
        "\n",
        "    #The mean will give the mean after num coin flips\n",
        "    mean = np.mean(x_samples)\n",
        "    return mean\n",
        "    \n",
        "# citations(1): https://pynative.com/python-weighted-random-choices-with-probability/#h-numpy-s-random-choice-to-choose-elements-from-the-list-with-different-probability\n",
        "\n"
      ]
    },
    {
      "cell_type": "markdown",
      "metadata": {
        "id": "w-MEuJagXWpl"
      },
      "source": [
        "## <font color=#46769B>Part 2: Central Limit Theorem</font>\n",
        "\n",
        "Perform 1000 simulations, each with `num=100`, and save your results as `list_of_means`, a list of values of $\\langle x \\rangle$ for each simulation. \n",
        "- Calculate the mean and standard deviation of `list_of_means`. Check that it agrees with the CLT.\n",
        "- Make a histogram `list_of_means` and compare it to a normal distribution predicted by the CLT."
      ]
    },
    {
      "cell_type": "code",
      "execution_count": 15,
      "metadata": {
        "id": "FSSLju23XWpl",
        "outputId": "54224c58-0162-4966-ecf2-44699af5af05",
        "colab": {
          "base_uri": "https://localhost:8080/",
          "height": 300
        }
      },
      "outputs": [
        {
          "output_type": "stream",
          "name": "stdout",
          "text": [
            "The mean and standard deviation does not agree with CLT\n"
          ]
        },
        {
          "output_type": "display_data",
          "data": {
            "image/png": "[encoded data removed]",
            "text/plain": [
              "<Figure size 432x288 with 1 Axes>"
            ]
          },
          "metadata": {
            "needs_background": "light"
          }
        }
      ],
      "source": [
        "# Your answer to exercise 2 here\n",
        "\n",
        "import numpy as np\n",
        "\n",
        "#Creating variables\n",
        "num = 100\n",
        "\n",
        "#Initializing a list\n",
        "list_of_means = []\n",
        "\n",
        "#Adding the results of 1000simulations with num = 100 to list_of_means\n",
        "for i in range(1000):\n",
        "    list_of_means.append(coin_flip_simulation(100))\n",
        "\n",
        "mean_of_list = np.mean(list_of_means)\n",
        "std_of_list = np.std(list_of_means)\n",
        "\n",
        "if mean_of_list > (mean_of_list-std_of_list/np.sqrt(1000)):\n",
        "    print('The mean and standard deviation does not agree with CLT')\n",
        "elif mean_of_list < (mean_of_list-std_of_list/np.sqrt(1000)):\n",
        "    print('The mean and standard deviation does not agree with CLT')\n",
        "else:\n",
        "    print('The mean and standard deviation agrees with CLT')\n",
        "\n",
        "plt.plot(list_of_means, '.')\n",
        "plt.ylabel('mean')\n",
        "plt.xlabel('simulation number')\n",
        "plt.ylim([0,1])\n",
        "plt.xlim([0,500])\n",
        "plt.show()\n",
        "\n"
      ]
    },
    {
      "cell_type": "code",
      "source": [
        ""
      ],
      "metadata": {
        "id": "CNwTzIqPGomr"
      },
      "execution_count": null,
      "outputs": []
    }
  ],
  "metadata": {
    "kernelspec": {
      "display_name": "Python 3",
      "language": "python",
      "name": "python3"
    },
    "language_info": {
      "codemirror_mode": {
        "name": "ipython",
        "version": 3
      },
      "file_extension": ".py",
      "mimetype": "text/x-python",
      "name": "python",
      "nbconvert_exporter": "python",
      "pygments_lexer": "ipython3",
      "version": "3.7.6"
    },
    "colab": {
      "name": "Exercise 2 - Central Limit Theorem.ipynb",
      "provenance": []
    }
  },
  "nbformat": 4,
  "nbformat_minor": 0
}